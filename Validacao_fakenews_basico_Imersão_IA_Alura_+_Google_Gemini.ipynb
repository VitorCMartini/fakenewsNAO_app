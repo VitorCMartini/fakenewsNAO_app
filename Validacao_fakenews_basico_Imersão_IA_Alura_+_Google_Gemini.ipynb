{
  "nbformat": 4,
  "nbformat_minor": 0,
  "metadata": {
    "colab": {
      "provenance": []
    },
    "kernelspec": {
      "name": "python3",
      "display_name": "Python 3"
    },
    "language_info": {
      "name": "python"
    }
  },
  "cells": [
    {
      "cell_type": "code",
      "source": [
        "%pip -q install google-genai"
      ],
      "metadata": {
        "id": "UCCbECexLk_h"
      },
      "execution_count": 5,
      "outputs": []
    },
    {
      "cell_type": "code",
      "source": [
        "# Configura a API Key do Google Gemini\n",
        "\n",
        "import os\n",
        "from google.colab import userdata\n",
        "\n",
        "os.environ[\"GOOGLE_API_KEY\"] = userdata.get('GOOGLE_API_KEY')"
      ],
      "metadata": {
        "id": "NfCqHo1tLk8P"
      },
      "execution_count": 1,
      "outputs": []
    },
    {
      "cell_type": "code",
      "source": [
        "# Configura o cliente da SDK do Gemini\n",
        "\n",
        "from google import genai\n",
        "\n",
        "client = genai.Client()\n",
        "\n",
        "MODEL_ID = \"gemini-2.0-flash\""
      ],
      "metadata": {
        "id": "bV4w0H5TLk5g"
      },
      "execution_count": 2,
      "outputs": []
    },
    {
      "cell_type": "code",
      "source": [
        "# Instalar Framework ADK de agentes do Google ################################################\n",
        "!pip install google-adk\n"
      ],
      "metadata": {
        "id": "hvZ3UnPI4jhJ"
      },
      "execution_count": null,
      "outputs": []
    },
    {
      "cell_type": "code",
      "execution_count": 3,
      "metadata": {
        "id": "aePV2bdfDeoW"
      },
      "outputs": [],
      "source": [
        "from google.adk.agents import Agent\n",
        "from google.adk.runners import Runner\n",
        "from google.adk.sessions import InMemorySessionService\n",
        "from google.adk.tools import google_search\n",
        "from google.genai import types  # Para criar conteúdos (Content e Part)\n",
        "from datetime import date\n",
        "import textwrap # Para formatar melhor a saída de texto\n",
        "from IPython.display import display, Markdown # Para exibir texto formatado no Colab\n",
        "import requests # Para fazer requisições HTTP\n",
        "import warnings\n",
        "\n",
        "warnings.filterwarnings(\"ignore\")"
      ]
    },
    {
      "cell_type": "code",
      "source": [
        "# Função auxiliar que envia uma mensagem para um agente via Runner e retorna a resposta final\n",
        "def call_agent(agent: Agent, message_text: str) -> str:\n",
        "    # Cria um serviço de sessão em memória\n",
        "    session_service = InMemorySessionService()\n",
        "    # Cria uma nova sessão (você pode personalizar os IDs conforme necessário)\n",
        "    session = session_service.create_session(app_name=agent.name, user_id=\"user1\", session_id=\"session1\")\n",
        "    # Cria um Runner para o agente\n",
        "    runner = Runner(agent=agent, app_name=agent.name, session_service=session_service)\n",
        "    # Cria o conteúdo da mensagem de entrada\n",
        "    content = types.Content(role=\"user\", parts=[types.Part(text=message_text)])\n",
        "\n",
        "    final_response = \"\"\n",
        "    # Itera assincronamente pelos eventos retornados durante a execução do agente\n",
        "    for event in runner.run(user_id=\"user1\", session_id=\"session1\", new_message=content):\n",
        "        if event.is_final_response():\n",
        "          for part in event.content.parts:\n",
        "            if part.text is not None:\n",
        "              final_response += part.text\n",
        "              final_response += \"\\n\"\n",
        "    return final_response"
      ],
      "metadata": {
        "id": "_xP4lWhsS5ko"
      },
      "execution_count": 4,
      "outputs": []
    },
    {
      "cell_type": "code",
      "source": [
        "# Função auxiliar para exibir texto formatado em Markdown no Colab\n",
        "def to_markdown(text):\n",
        "  text = text.replace('•', '  *')\n",
        "  return Markdown(textwrap.indent(text, '> ', predicate=lambda _: True))"
      ],
      "metadata": {
        "id": "8dosiodaxfFR"
      },
      "execution_count": 5,
      "outputs": []
    },
    {
      "cell_type": "code",
      "source": [
        "##########################################\n",
        "# --- Agente 1: Buscador de Notícias --- #\n",
        "##########################################\n",
        "def agente_buscador(topico, data_de_hoje):\n",
        "    buscador = Agent(\n",
        "        name=\"agente_buscador\",\n",
        "        model=\"gemini-2.0-flash\",\n",
        "        # Inserir as instruções do Agente buscador #################################################\n",
        "        instruction=\"\"\" Você é um assistente de pesquisa especializado em determinar a probabilidade de veracidade de um tópico com base na análise de notícias recentes e históricas.\n",
        "\n",
        "Sua tarefa é usar a ferramenta de busca do Google (google_search) para recuperar notícias relacionadas ao seguinte tópico abaixo.\n",
        "\n",
        "Ao realizar a busca e analisar os resultados, siga estas etapas:\n",
        "\n",
        "1.  **Busque as últimas notícias relevantes sobre o tópico:** Concentre-se em notícias publicadas recentemente (idealmente nos últimos meses e de fontes seguras e/ou institucionais).\n",
        "2.  **Analise a probabilidade de veracidade com base na comparação:**\n",
        "    * **Concordância:** Verifique se múltiplas fontes confiáveis reportam informações semelhantes sobre o tópico. Quanto maior a concordância entre fontes reputáveis, maior a probabilidade de veracidade.\n",
        "    * **Tom:** Avalie o tom das notícias. Notícias com tom neutro e factual de fontes confiáveis tendem a indicar maior probabilidade de veracidade do que notícias com tom sensacionalista ou excessivamente opinativo.\n",
        "    * **Entusiasmo/Cobertura:** Se um tópico gerar uma grande quantidade de notícias e discussões de fontes diversas e confiáveis, isso pode indicar sua relevância e potencial veracidade (embora não garanta).\n",
        "3.  **Lide com poucos resultados ou falta de entusiasmo:**\n",
        "    * Se houver poucas notícias recentes ou pouco entusiasmo em torno do tópico, realize uma busca por notícias que possam ter desencadeado o tema, buscando informações de até dois anos antes.\n",
        "    * Avalie os fatos apresentados nessas notícias mais antigas para entender a origem e o desenvolvimento do tema.\n",
        "4.  **Formate cada notícia encontrada:** Para cada notícia relevante, inclua no seu relatório:\n",
        "    * **Data de Publicação:** (Extraída da notícia)\n",
        "    * **Autor/Fonte:** (Nome do veículo ou autor, se disponível)\n",
        "    * **Título da Notícia:**\n",
        "    * **Breve Resumo/Trecho Relevante:** (Um ou dois parágrafos destacando as informações chave)\n",
        "\n",
        "Seu relatório deve ser um resumo das notícias encontradas e sua avaliação inicial da probabilidade de veracidade do tópico com base na sua análise comparativa, tom e cobertura.\n",
        "Mencione se houve poucos resultados recentes e como você procedeu para investigar a origem do tema.\n",
        "        \"\"\",\n",
        "        description=\"Agente que busca notícias, imagens e vídeos no google\",\n",
        "        tools=[google_search]\n",
        "    )\n",
        "\n",
        "    entrada_do_agente_buscador = f\"Tópico:{topico}\\nData de hoje: {data_de_hoje}\"\n",
        "    # Executa o agente\n",
        "    noticias_buscadas = call_agent(buscador, entrada_do_agente_buscador)\n",
        "    return noticias_buscadas\n"
      ],
      "metadata": {
        "id": "o8bqIfi_DyH8"
      },
      "execution_count": 8,
      "outputs": []
    },
    {
      "cell_type": "code",
      "source": [
        "################################################\n",
        "# --- Agente 2: Avaliador de noticias --- #\n",
        "################################################\n",
        "def agente_avaliador(topico, noticias_buscadas):\n",
        "    avaliador = Agent(\n",
        "        name=\"agente_avaliador\",\n",
        "        model=\"gemini-2.0-flash\",\n",
        "        # Inserir as instruções do Agente Planejador #################################################\n",
        "        instruction=\"\"\"\n",
        "        Você é um assistente de análise de informações, responsável por avaliar o relatório produzido pelo `agente_buscador` sobre a veracidade de um tópico.\n",
        "\n",
        "Sua tarefa é coletar o relatório do `agente_buscador` e realizar uma análise aprofundada para fornecer informações valiosas para o `agente_redator`.\n",
        "\n",
        "Com base no relatório do `agente_buscador`, realize as seguintes ações:\n",
        "\n",
        "1.  **Classificação Hierárquica da Veracidade:** Classifique a probabilidade de veracidade da informação em uma escala (por exemplo: Alta Probabilidade,\n",
        "      Média Probabilidade, Baixa Probabilidade, Improvável, Não Conclusivo). Justifique sua classificação com base na concordância, tom e entusiasmo observados nas notícias.\n",
        "2.  **Análise Qualitativa da Veracidade:** Descreva qualitativamente o nível de suporte factual encontrado. Existem evidências concretas e verificáveis?\n",
        "      As fontes são confiáveis e consistentes? Há contradições ou informações conflitantes?\n",
        "3.  **Análise Quantitativa da Veracidade:** Se possível, quantifique a força do suporte (por exemplo: \"8 em cada 10 fontes principais reportam informações consistentes\").\n",
        "4.  **Identificação de Viés Ideológico:** Analise as fontes das notícias em busca de possíveis vieses ideológicos que possam influenciar a forma como a informação é apresentada.\n",
        "      Mencione os possíveis vieses identificados e como eles podem afetar a interpretação da informação.\n",
        "5.  **Contextualização da Informação:** Com base nas notícias e em seu conhecimento geral, forneça o contexto provável em que a informação está inserida.\n",
        "      Quais eventos ou situações podem estar relacionados a essa informação?\n",
        "6.  **Conteúdo de Apoio para o Agente Redator:** Forneça uma lista concisa de pontos chave, fatos confirmados (se houver),\n",
        "     evidências claras e o contexto identificado que o `agente_redator` pode usar para escrever seu relatório. Priorize informações com forte suporte factual.\n",
        "\n",
        "Seu relatório deve ser uma análise estruturada da probabilidade de veracidade, viés ideológico, contexto e um resumo de conteúdo chave para o `agente_redator`.\n",
        "        \"\"\",\n",
        "        description=\"Agente que planeja posts\",\n",
        "        tools=[google_search]\n",
        "    )\n",
        "\n",
        "    entrada_do_agente_avaliador = f\"Tópico:{topico}\\nLançamentos buscados: {noticias_buscadas}\"\n",
        "    # Executa o agente\n",
        "    avaliacao_critica = call_agent(avaliador, entrada_do_agente_avaliador)\n",
        "    return avaliacao_critica"
      ],
      "metadata": {
        "id": "y3VO1uo5_ghO"
      },
      "execution_count": 9,
      "outputs": []
    },
    {
      "cell_type": "code",
      "source": [
        "######################################\n",
        "# --- Agente 3: Redator do Post --- #\n",
        "######################################\n",
        "def agente_redator(topico, avaliacao_critica):\n",
        "    redator = Agent(\n",
        "        name=\"agente_redator\",\n",
        "        model=\"gemini-2.0-flash\",\n",
        "        instruction=\"\"\"\n",
        "Você é um redator de relatórios informativos, responsável por apresentar um parecer claro e direto sobre a veracidade de uma informação com base na análise fornecida pelo `agente_avaliador`.\n",
        "\n",
        "Sua tarefa é escrever um relatório conciso que informe o leitor sobre a probabilidade de veracidade da informação original.\n",
        "\n",
        "Com base no relatório do `agente_avaliador`, redija um relatório que inclua os seguintes elementos:\n",
        "\n",
        "1.  **Parecer sobre a Veracidade:** Apresente de forma clara o parecer sobre a probabilidade de veracidade da informação (usando a classificação do `agente_avaliador`).\n",
        "2.  **Veículo de Disseminação (se conhecido):** Mencione qual foi o veículo de informação que disseminou a notícia original (se essa informação estiver disponível no input ou nos relatórios anteriores).\n",
        "3.  **Contexto da Informação:** Apresente o contexto em que a informação provavelmente está inserida, conforme identificado pelo `agente_avaliador`.\n",
        "4.  **Informações Esclarecedoras:** Forneça informações chave que ajudem o leitor a entender a mensagem com maior facilidade. Baseie-se nos fatos confirmados e nas evidências claras identificadas pelo `agente_avaliador`.\n",
        "5.  **Fontes Principais (opcional):** Se relevante e conciso, você pode mencionar as principais fontes que sustentam o parecer (sem entrar em detalhes exaustivos).\n",
        "\n",
        "Seu relatório deve ser um texto claro, direto e informativo, resumindo a análise de veracidade, o contexto e as informações essenciais para o entendimento do leitor. Evite jargões e seja objetivo.\n",
        "            \"\"\",\n",
        "        description=\"Agente redator de posts esclarecedores para publico geral\"\n",
        "    )\n",
        "    entrada_do_agente_redator = f\"Tópico: {topico}\\nPlano de post: {avaliacao_critica}\"\n",
        "    # Executa o agente\n",
        "    rascunho = call_agent(redator, entrada_do_agente_redator)\n",
        "    return rascunho"
      ],
      "metadata": {
        "id": "uOqlg2TRLVh1"
      },
      "execution_count": 10,
      "outputs": []
    },
    {
      "cell_type": "code",
      "source": [
        "##########################################\n",
        "# --- Agente 4: Revisor de Qualidade --- #\n",
        "##########################################\n",
        "def agente_revisor(topico, rascunho_gerado):\n",
        "    revisor = Agent(\n",
        "        name=\"agente_revisor\",\n",
        "        model=\"gemini-2.0-flash\",\n",
        "        instruction=\"\"\"\n",
        "            Você é um revisor de textos com foco em clareza e precisão. Sua tarefa é revisar o relatório escrito pelo `agente_redator` em busca de frases ambíguas que possam levar a interpretações equivocadas.\n",
        "\n",
        "Ao revisar o relatório do `agente_redator`, siga estas etapas:\n",
        "\n",
        "1.  **Leia atentamente o relatório.**\n",
        "2.  **Identifique frases que possam ter múltiplos significados ou que não sejam claras o suficiente.** Procure por pronomes com referentes obscuros, construções gramaticais complexas que dificultam a compreensão,\n",
        "      termos vagos ou imprecisos, e qualquer outra formulação que possa gerar confusão no leitor.\n",
        "3.  **Sugira revisões para tornar as frases mais claras e diretas.** Seu objetivo é eliminar qualquer ambiguidade e garantir que a mensagem seja transmitida de forma inequívoca.\n",
        "4.  **Mantenha o tom e o estilo do relatório original o máximo possível**, focando apenas na eliminação da ambiguidade.\n",
        "\n",
        "Seu relatório deve ser uma lista das frases ambíguas encontradas e suas sugestões de revisão para maior clareza. Se não encontrar ambiguidades, informe isso explicitamente.\n",
        "            \"\"\",\n",
        "        description=\"Agente revisor de post para redes sociais.\"\n",
        "    )\n",
        "    entrada_do_agente_revisor = f\"Tópico: {topico}\\nRascunho: {rascunho_gerado}\"\n",
        "    # Executa o agente\n",
        "    texto_revisado = call_agent(revisor, entrada_do_agente_revisor)\n",
        "    return texto_revisado"
      ],
      "metadata": {
        "id": "_aTb1SdkLeT6"
      },
      "execution_count": 11,
      "outputs": []
    },
    {
      "cell_type": "code",
      "source": [
        "data_de_hoje = date.today().strftime(\"%d/%m/%Y\")\n",
        "\n",
        "print(\"🚀 Iniciando o Sistema de Verificação de notícias 🚀\")\n",
        "\n",
        "# --- Obter o Tópico do Usuário ---\n",
        "topico = input(\"Por favor, digite o TÓPICO sobre o qual você quer verificar a informação \")\n",
        "\n",
        "# Inserir lógica do sistema de agentes ################################################\n",
        "\n",
        "if not topico:\n",
        "  print(\"Você esqueceu de digitar o tópico!\")\n",
        "else:\n",
        "  print(\"Maravilha! Vamos trabalhar nesse topico\")\n",
        "\n",
        "  noticias_buscadas = agente_buscador(topico,data_de_hoje)\n",
        "  avaliacao_critica = agente_avaliador(topico,noticias_buscadas)\n",
        "  redacao = agente_redator(topico,avaliacao_critica)\n",
        "  print(\"\\n--- Rascunho Gerado ---\")\n",
        "  display(to_markdown(redacao))\n",
        "  print(\"--------------------------------\")\n",
        "\n",
        "  redacao_revisada = agente_revisor(topico,redacao)\n",
        "  print(\"\\n--- Rascunho Revisado ---\")\n",
        "  display(to_markdown(redacao_revisada))\n",
        "  print(\"--------------------------------\")"
      ],
      "metadata": {
        "id": "630ummxz4myx",
        "colab": {
          "base_uri": "https://localhost:8080/",
          "height": 938
        },
        "outputId": "96380ca5-1fed-4ef5-ef1a-e73a8363c70d"
      },
      "execution_count": 14,
      "outputs": [
        {
          "output_type": "stream",
          "name": "stdout",
          "text": [
            "🚀 Iniciando o Sistema de Criação de Posts para Instagram com 4 Agentes 🚀\n",
            "❓ Por favor, digite o TÓPICO sobre o qual você quer criar o post de tendências: É verdade que a Bela Campos brigou com o Caua Reymond nos bastidores da novela?\n",
            "Maravilha! Vamos trabalhar nesse topico e criar os posts\n",
            "\n",
            "--- Rascunho Gerado ---\n"
          ]
        },
        {
          "output_type": "display_data",
          "data": {
            "text/plain": [
              "<IPython.core.display.Markdown object>"
            ],
            "text/markdown": "> ## Relatório sobre a Veracidade da Informação: Possível Conflito entre Bela Campos e Cauã Reymond nos Bastidores de \"Vale Tudo\"\n> \n> **Parecer sobre a Veracidade:** Alta probabilidade de veracidade. Múltiplas fontes de notícias relatam um conflito entre os atores.\n> \n> **Veículo de Disseminação:** A informação foi disseminada por diversos veículos de notícias online, incluindo Terra, CNN Brasil, Omelete, Revista Raça Brasil, Portal Em Tempo, NaTelinha e Veja.\n> \n> **Contexto da Informação:** A notícia está inserida no contexto da produção da novela \"Vale Tudo\". O conflito teria surgido devido a tensões nos bastidores, possivelmente relacionadas a diferenças de opinião sobre a atuação ou o ritmo de trabalho.\n> \n> **Informações Esclarecedoras:**\n> \n> *   Várias fontes noticiaram que Bela Campos teria feito reclamações sobre o comportamento de Cauã Reymond durante as gravações.\n> *   A direção da Globo teria intervindo para mediar a situação e evitar maiores conflitos.\n> *   Cauã Reymond se pronunciou sobre a polêmica, minimizando a ocorrência de uma briga.\n> *   Alice Wegmann e Mariana Goldfarb manifestaram apoio a Bella Campos.\n> \n> Apesar da negativa de Cauã Reymond, a quantidade de fontes que reportam o incidente e os detalhes consistentes sugerem que houve, de fato, tensões e desentendimentos nos bastidores da novela \"Vale Tudo\".\n> \n"
          },
          "metadata": {}
        },
        {
          "output_type": "stream",
          "name": "stdout",
          "text": [
            "--------------------------------\n",
            "\n",
            "--- Rascunho Revisado ---\n"
          ]
        },
        {
          "output_type": "display_data",
          "data": {
            "text/plain": [
              "<IPython.core.display.Markdown object>"
            ],
            "text/markdown": "> ## Análise de Ambiguidade e Sugestões de Revisão\n> \n> Após revisar o relatório, identifiquei as seguintes frases que podem gerar alguma ambiguidade e sugiro revisões para aumentar a clareza:\n> \n> 1.  **Frase:** \"A direção da Globo teria intervindo para mediar a situação e evitar maiores conflitos.\"\n>     *   **Ambiguidade:** Não está claro *qual* situação a direção da Globo mediou.\n>     *   **Sugestão de Revisão:** \"A direção da Globo teria intervindo para mediar o conflito entre Bela Campos e Cauã Reymond e evitar maiores tensões.\"\n> \n> 2.  **Frase:** \"Cauã Reymond se pronunciou sobre a polêmica, minimizando a ocorrência de uma briga.\"\n>     *   **Ambiguidade:** O que significa \"minimizando a ocorrência de uma briga\"? Ele negou completamente, ou admitiu algo, mas de menor importância?\n>     *   **Sugestão de Revisão:** \"Cauã Reymond se pronunciou sobre a polêmica, negando veementemente a ocorrência de uma briga\" ou \"Cauã Reymond se pronunciou sobre a polêmica, admitindo desentendimentos, mas minimizando-os como uma briga.\" (A escolha depende da declaração real dele)\n> \n> 3.  **Frase:** \"Alice Wegmann e Mariana Goldfarb manifestaram apoio a Bella Campos.\"\n>     *   **Ambiguidade:** Como elas manifestaram apoio? Publicamente? Em que contexto?\n>     *   **Sugestão de Revisão:** \"Alice Wegmann e Mariana Goldfarb manifestaram apoio a Bella Campos publicamente através de suas redes sociais\" ou \"Alice Wegmann e Mariana Goldfarb manifestaram apoio a Bella Campos nos bastidores da novela\". (A escolha depende de como o apoio foi manifestado)\n> \n> As demais frases do relatório parecem claras e diretas.\n"
          },
          "metadata": {}
        },
        {
          "output_type": "stream",
          "name": "stdout",
          "text": [
            "--------------------------------\n"
          ]
        }
      ]
    }
  ]
}